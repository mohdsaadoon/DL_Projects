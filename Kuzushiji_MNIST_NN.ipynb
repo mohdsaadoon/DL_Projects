{
  "nbformat": 4,
  "nbformat_minor": 0,
  "metadata": {
    "colab": {
      "private_outputs": true,
      "provenance": [],
      "gpuType": "T4"
    },
    "kernelspec": {
      "name": "python3",
      "display_name": "Python 3"
    },
    "language_info": {
      "name": "python"
    },
    "accelerator": "GPU"
  },
  "cells": [
    {
      "cell_type": "markdown",
      "source": [
        "# Neural Networks with Tensorflow\n",
        "\n",
        "We are going to train a Neural Networks on the Japanese MNIST dataset. It is composed of 70000 images of handwritten Hiragana characters. The target variables has 10 different classes.\n",
        "\n",
        "Each image is of dimension 28 by 28. But we will flatten them to form a dataset composed of vectors of dimension (784, 1). The training process will be similar as for a structured dataset.\n",
        "\n",
        "<img src='data:image/png;base64,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' width=\"500\" height=\"200\">\n",
        "\n"
      ],
      "metadata": {
        "id": "KNyZ-zZxlU6G"
      }
    },
    {
      "cell_type": "markdown",
      "source": [
        "# 1. Import Required Packages"
      ],
      "metadata": {
        "id": "iOufKqO8mw7n"
      }
    },
    {
      "cell_type": "markdown",
      "source": [
        "[1.1] We are going to use numpy, matplotlib and google.colab packages"
      ],
      "metadata": {
        "id": "b-sGJ26pmz4A"
      }
    },
    {
      "cell_type": "code",
      "execution_count": null,
      "metadata": {
        "id": "oTGG80etnMAa"
      },
      "outputs": [],
      "source": [
        "from google.colab import drive\n",
        "import numpy as np\n",
        "import matplotlib.pyplot as plt"
      ]
    },
    {
      "cell_type": "markdown",
      "source": [
        "# 2. Download Dataset\n",
        "\n",
        "We will store the dataset into your personal Google Drive.\n"
      ],
      "metadata": {
        "id": "Vyky0K3fnEFO"
      }
    },
    {
      "cell_type": "markdown",
      "source": [
        "[2.1] Mount Google Drive"
      ],
      "metadata": {
        "id": "ltUMtjG-nX-b"
      }
    },
    {
      "cell_type": "code",
      "source": [
        "# Mount Google Drive to access data\n",
        "drive.mount('/content/gdrive')"
      ],
      "metadata": {
        "id": "N_FVrXICnMJM"
      },
      "execution_count": null,
      "outputs": []
    },
    {
      "cell_type": "markdown",
      "source": [
        "[2.2] Create a folder called `DL_ASG_1` on your Google Drive at the root level"
      ],
      "metadata": {
        "id": "CzLtlKCHnT9H"
      }
    },
    {
      "cell_type": "code",
      "source": [
        "# Create necessary directory in Google Drive\n",
        "! mkdir -p /content/gdrive/MyDrive/DL_Projects"
      ],
      "metadata": {
        "id": "XZicoPks4POW"
      },
      "execution_count": null,
      "outputs": []
    },
    {
      "cell_type": "markdown",
      "source": [
        "[2.3] Navigate to this folder"
      ],
      "metadata": {
        "id": "sToej_3CnePP"
      }
    },
    {
      "cell_type": "code",
      "source": [
        "# Change current working directory to the project folder\n",
        "! cd /content/gdrive/MyDrive/DL_Projects"
      ],
      "metadata": {
        "id": "g2oAXToKnpXj"
      },
      "execution_count": null,
      "outputs": []
    },
    {
      "cell_type": "markdown",
      "source": [
        "[2.4] Dowload the dataset files to your Google Drive if required"
      ],
      "metadata": {
        "id": "3vlfobqnnjJ1"
      }
    },
    {
      "cell_type": "code",
      "source": [
        "import requests\n",
        "from tqdm import tqdm\n",
        "import os.path\n",
        "\n",
        "def download_file(url):\n",
        "    \"\"\"\n",
        "    Download file from URL if not already downloaded.\n",
        "\n",
        "    Parameters:\n",
        "        url (str): URL of the file to download.\n",
        "    \"\"\"\n",
        "    path = url.split('/')[-1]\n",
        "    if os.path.isfile(path):\n",
        "        print(f\"{path} already exists\")\n",
        "    else:\n",
        "        r = requests.get(url, stream=True)\n",
        "        with open(path, 'wb') as f:\n",
        "            total_length = int(r.headers.get('content-length'))\n",
        "            print('Downloading {} - {:.1f} MB'.format(path, (total_length / 1024000)))\n",
        "            for chunk in tqdm(r.iter_content(chunk_size=1024), total=int(total_length / 1024) + 1, unit=\"KB\"):\n",
        "                if chunk:\n",
        "                    f.write(chunk)\n",
        "\n",
        "# List of URLs to download the KMNIST dataset\n",
        "url_list = [\n",
        "    'http://codh.rois.ac.jp/kmnist/dataset/kmnist/kmnist-train-imgs.npz',\n",
        "    'http://codh.rois.ac.jp/kmnist/dataset/kmnist/kmnist-train-labels.npz',\n",
        "    'http://codh.rois.ac.jp/kmnist/dataset/kmnist/kmnist-test-imgs.npz',\n",
        "    'http://codh.rois.ac.jp/kmnist/dataset/kmnist/kmnist-test-labels.npz'\n",
        "]\n",
        "\n",
        "# Download the KMNIST dataset files\n",
        "for url in url_list:\n",
        "    download_file(url)"
      ],
      "metadata": {
        "id": "M0owzTC427NM"
      },
      "execution_count": null,
      "outputs": []
    },
    {
      "cell_type": "markdown",
      "source": [
        "[2.5] List the content of the folder and confirm files have been dowloaded properly"
      ],
      "metadata": {
        "id": "DVF_Cx7Hny2i"
      }
    },
    {
      "cell_type": "code",
      "source": [
        "! ls"
      ],
      "metadata": {
        "id": "vt6ZKf4fnqkq"
      },
      "execution_count": null,
      "outputs": []
    },
    {
      "cell_type": "markdown",
      "source": [
        "# 3. Load Data"
      ],
      "metadata": {
        "id": "fvvfOON36hTf"
      }
    },
    {
      "cell_type": "markdown",
      "source": [
        "[3.1] Import the required modules from Tensorflow"
      ],
      "metadata": {
        "id": "duFjgsyPoLPR"
      }
    },
    {
      "cell_type": "code",
      "source": [
        "# Import necessary packages\n",
        "# Note: Removed duplicated imports and organized them\n",
        "import os\n",
        "import pandas as pd\n",
        "import seaborn as sns\n",
        "from IPython.display import SVG\n",
        "from tensorflow.keras.utils import plot_model\n",
        "from sklearn.preprocessing import LabelBinarizer\n",
        "from sklearn.metrics import classification_report\n",
        "import tensorflow as tf\n",
        "from tensorflow import keras\n",
        "from keras.models import Sequential\n",
        "from keras.layers import Dense, Dropout, Flatten, Conv2D, MaxPooling2D\n",
        "from keras import backend as K\n",
        "from keras.callbacks import ReduceLROnPlateau, EarlyStopping\n",
        "from tqdm import tqdm_notebook"
      ],
      "metadata": {
        "id": "1zolHKEO7GZA"
      },
      "execution_count": null,
      "outputs": []
    },
    {
      "cell_type": "markdown",
      "source": [
        "[3.2] Create 2 variables called `img_height` and `img_width` that will both take the value 28"
      ],
      "metadata": {
        "id": "r4Aw5ObQoWdI"
      }
    },
    {
      "cell_type": "code",
      "source": [
        "#set the image dimensions 28\n",
        "IMG_HEIGHT = 28\n",
        "IMG_WIDTH = 28\n",
        "\n"
      ],
      "metadata": {
        "id": "Ip0NFeyjpj79"
      },
      "execution_count": null,
      "outputs": []
    },
    {
      "cell_type": "markdown",
      "source": [
        "[3.3] Create a function that loads a .npz file using numpy and return the content of the `arr_0` key"
      ],
      "metadata": {
        "id": "hmX5SEHkpp63"
      }
    },
    {
      "cell_type": "code",
      "source": [
        "def load_data(f):\n",
        "    \"\"\"\n",
        "    Load data from the given npz file.\n",
        "\n",
        "    Parameters:\n",
        "        f (str): File path of the npz file.\n",
        "\n",
        "    Returns:\n",
        "        numpy.ndarray: Loaded data from the npz file.\n",
        "    \"\"\"\n",
        "    return np.load(f)['arr_0']\n"
      ],
      "metadata": {
        "id": "5S3cthx57L2f"
      },
      "execution_count": null,
      "outputs": []
    },
    {
      "cell_type": "markdown",
      "source": [
        "[3.4]  Load the 4 files saved on your Google Drive into their respective variables: x_train, y_train, x_test and y_test"
      ],
      "metadata": {
        "id": "8V2Ij9s7qRtj"
      }
    },
    {
      "cell_type": "code",
      "source": [
        "# Load the KMNIST data\n",
        "x_train = load_data('kmnist-train-imgs.npz')\n",
        "x_test = load_data('kmnist-test-imgs.npz')\n",
        "y_train = load_data('kmnist-train-labels.npz')\n",
        "y_test = load_data('kmnist-test-labels.npz')\n",
        "\n",
        "print(\"KMNIST train shape:\", x_train.shape)\n",
        "print(\"KMNIST test shape:\", x_test.shape)\n",
        "print(\"KMNIST train shape:\", y_train.shape)\n",
        "print(\"KMNIST test shape:\", y_test.shape)\n"
      ],
      "metadata": {
        "id": "5XTkRb0lqpEE"
      },
      "execution_count": null,
      "outputs": []
    },
    {
      "cell_type": "markdown",
      "source": [
        "[3.5] Using matplotlib display the first image from the train set and its target value"
      ],
      "metadata": {
        "id": "3KC12nB7rlbV"
      }
    },
    {
      "cell_type": "code",
      "source": [
        "# Plot the first image from the train set\n",
        "plt.title(y_train[0])\n",
        "plt.imshow(x_train[0], cmap=\"Greys\")\n",
        "plt.show()\n"
      ],
      "metadata": {
        "id": "AOtWg7bBrwmV"
      },
      "execution_count": null,
      "outputs": []
    },
    {
      "cell_type": "code",
      "source": [
        "# Function to plot sample images for each class\n",
        "def plot_sample_images_data(images, labels):\n",
        "    \"\"\"\n",
        "    Plot sample images for each class.\n",
        "\n",
        "    Parameters:\n",
        "        images (numpy.ndarray): Array of images.\n",
        "        labels (numpy.ndarray): Array of labels.\n",
        "    \"\"\"\n",
        "    plt.figure(figsize=(12, 12))\n",
        "    for i in tqdm_notebook(range(10)):\n",
        "        imgs = images[np.where(labels == i)]\n",
        "        lbls = labels[np.where(labels == i)]\n",
        "        for j in range(10):\n",
        "            plt.subplot(10, 10, i * 10 + j + 1)\n",
        "            plt.xticks([])\n",
        "            plt.yticks([])\n",
        "            plt.grid(False)\n",
        "            plt.imshow(imgs[j], cmap=\"Greys\")\n",
        "            plt.xlabel(lbls[j])\n",
        "\n",
        "plot_sample_images_data(x_train, y_train)"
      ],
      "metadata": {
        "id": "HuY9zTHHE5Ef"
      },
      "execution_count": null,
      "outputs": []
    },
    {
      "cell_type": "markdown",
      "source": [
        "# 4. Prepare Data"
      ],
      "metadata": {
        "id": "htLk_27ir0B1"
      }
    },
    {
      "cell_type": "markdown",
      "source": [
        "[4.1] Reshape the images from the training and testing set to have the channel dimension last. The dimensions should be: (row_number, height, width, channel)"
      ],
      "metadata": {
        "id": "VJEBe30Er33P"
      }
    },
    {
      "cell_type": "code",
      "source": [
        "# Flatten the image data and normalize it\n",
        "x_train = x_train.reshape((x_train.shape[0], IMG_HEIGHT * IMG_WIDTH))\n",
        "x_test = x_test.reshape((x_test.shape[0], IMG_HEIGHT * IMG_WIDTH))\n"
      ],
      "metadata": {
        "id": "1yqWleZasxdR"
      },
      "execution_count": null,
      "outputs": []
    },
    {
      "cell_type": "markdown",
      "source": [
        "[4.2] Cast `x_train` and `x_test` into `float32` decimals"
      ],
      "metadata": {
        "id": "F2f6wvFys2ZI"
      }
    },
    {
      "cell_type": "code",
      "source": [
        "#change the data type and make sure that the value are float\n",
        "x_train = x_train.astype('float32') / 255.0\n",
        "x_test = x_test.astype('float32') / 255.0"
      ],
      "metadata": {
        "id": "FWZmWe73tLXT"
      },
      "execution_count": null,
      "outputs": []
    },
    {
      "cell_type": "markdown",
      "source": [
        "[4.3] Standardise the images of the training and testing sets. Originally each image contains pixels with value ranging from 0 to 255. after standardisation, the new value range should be from 0 to 1."
      ],
      "metadata": {
        "id": "Z-1Jr0pKs6jv"
      }
    },
    {
      "cell_type": "markdown",
      "source": [
        "[4.4] Create a variable called `num_classes` that will take the value 10 which corresponds to the number of classes for the target variable"
      ],
      "metadata": {
        "id": "9eH4aZmXt7Fe"
      }
    },
    {
      "cell_type": "code",
      "source": [
        "# Set the number of classes\n",
        "NUM_CLASSES = 10"
      ],
      "metadata": {
        "id": "gTnMgLxYuUs6"
      },
      "execution_count": null,
      "outputs": []
    },
    {
      "cell_type": "markdown",
      "source": [
        "[4.5] **TODO** Convert the target variable for the training and testing sets to a binary class matrix of dimension (rows, num_classes).\n",
        "\n",
        "For example:\n",
        "- class 0 will become [1, 0, 0, 0, 0, 0, 0, 0, 0, 0]\n",
        "- class 1 will become [0, 1, 0, 0, 0, 0, 0, 0, 0, 0]\n",
        "- class 5 will become [0, 0, 0, 0, 0, 1, 0, 0, 0, 0]\n",
        "- class 9 will become [0, 0, 0, 0, 0, 0, 0, 0, 0, 1]"
      ],
      "metadata": {
        "id": "iAy0fUJsuyhb"
      }
    },
    {
      "cell_type": "code",
      "source": [
        "# Convert class vectors to binary class matrices\n",
        "y_train = keras.utils.to_categorical(y_train, NUM_CLASSES)\n",
        "y_test = keras.utils.to_categorical(y_test, NUM_CLASSES)"
      ],
      "metadata": {
        "id": "ysNg37Ukwq8S"
      },
      "execution_count": null,
      "outputs": []
    },
    {
      "cell_type": "markdown",
      "source": [
        "# 5. Define Neural Networks Architecure"
      ],
      "metadata": {
        "id": "0OCorS00wxPN"
      }
    },
    {
      "cell_type": "markdown",
      "source": [
        "[5.1] Set the seed for Tensorflow Keras\n",
        "\n",
        "\n",
        "\n",
        "\n"
      ],
      "metadata": {
        "id": "7G_L-yqTxI1d"
      }
    },
    {
      "cell_type": "code",
      "source": [
        "# Set random seed for reproducibility\n",
        "keras.utils.set_random_seed(42)"
      ],
      "metadata": {
        "id": "XB8OIC9wrgFG"
      },
      "execution_count": null,
      "outputs": []
    },
    {
      "cell_type": "markdown",
      "source": [
        "[5.2]  Define the architecture of your Neural Networks and save it into a variable called `model`"
      ],
      "metadata": {
        "id": "5b93U4MixWeE"
      }
    },
    {
      "cell_type": "code",
      "source": [
        "# Create the Sequential model\n",
        "model = Sequential()\n",
        "model.add(Dense(256, input_shape=(IMG_HEIGHT * IMG_WIDTH,), activation=\"sigmoid\"))\n",
        "model.add(Dropout(0.5))\n",
        "model.add(Dense(128, activation=\"sigmoid\"))\n",
        "model.add(Dense(NUM_CLASSES, activation=\"softmax\"))"
      ],
      "metadata": {
        "id": "gq1f74uKxpkp"
      },
      "execution_count": null,
      "outputs": []
    },
    {
      "cell_type": "markdown",
      "source": [
        "[5.2] Print the summary of your model"
      ],
      "metadata": {
        "id": "0IvuMQ81xu5U"
      }
    },
    {
      "cell_type": "code",
      "source": [
        "# Display the model summary\n",
        "model.summary()"
      ],
      "metadata": {
        "id": "gBRm-h5dxvIw"
      },
      "execution_count": null,
      "outputs": []
    },
    {
      "cell_type": "markdown",
      "source": [
        "# 6. Train Neural Networks"
      ],
      "metadata": {
        "id": "sOPTnNxtx6MC"
      }
    },
    {
      "cell_type": "markdown",
      "source": [
        "[6.1]  Create 2 variables called `batch_size` and `epochs` that will  respectively take the values 128 and 500"
      ],
      "metadata": {
        "id": "fsHJzhnAyP4H"
      }
    },
    {
      "cell_type": "code",
      "source": [
        "\n",
        "# Set up training parameters\n",
        "BATCH_SIZE = 128\n",
        "EPOCHS = 500\n"
      ],
      "metadata": {
        "id": "hNe_Cia0yde-"
      },
      "execution_count": null,
      "outputs": []
    },
    {
      "cell_type": "markdown",
      "source": [
        "\n",
        "\n",
        "[6.2]  Compile your model with the appropriate loss function, the optimiser of your choice and the accuracy metric"
      ],
      "metadata": {
        "id": "4-bAkzwXyjAs"
      }
    },
    {
      "cell_type": "code",
      "source": [
        "# Compile the model\n",
        "model.compile(loss=\"categorical_crossentropy\", optimizer='adam', metrics=[\"accuracy\"])\n"
      ],
      "metadata": {
        "id": "0WnNAYT6yjci"
      },
      "execution_count": null,
      "outputs": []
    },
    {
      "cell_type": "markdown",
      "source": [
        "[6.3]  Fit your model using the number of epochs defined. SAve the ouput to a variable called `history`. You can set up some callbacks if you wish."
      ],
      "metadata": {
        "id": "iRvM_pEZy7SX"
      }
    },
    {
      "cell_type": "code",
      "source": [
        "# Train the model\n",
        "history = model.fit(x_train, y_train, validation_data=(x_test, y_test),\n",
        "                    epochs=EPOCHS, batch_size=BATCH_SIZE, verbose=2)"
      ],
      "metadata": {
        "id": "EMzFo2r5JKn6"
      },
      "execution_count": null,
      "outputs": []
    },
    {
      "cell_type": "markdown",
      "source": [
        "[6.4] Save the weights of your model"
      ],
      "metadata": {
        "id": "FNvB5AaC6dTL"
      }
    },
    {
      "cell_type": "code",
      "source": [
        "# Save the model weights\n",
        "model.save_weights('./checkpoints/my_checkpoint')\n"
      ],
      "metadata": {
        "id": "Rmtkn07hk0hU"
      },
      "execution_count": null,
      "outputs": []
    },
    {
      "cell_type": "markdown",
      "source": [
        "# 7. Analyse Results"
      ],
      "metadata": {
        "id": "vz9uFy_X6oeA"
      }
    },
    {
      "cell_type": "markdown",
      "source": [
        "[7.1] Display the performance of your model on the training and testing sets"
      ],
      "metadata": {
        "id": "ddugPZhZ68Wb"
      }
    },
    {
      "cell_type": "code",
      "source": [
        "# Evaluate the model\n",
        "train_score = model.evaluate(x_train, y_train, verbose=2)\n",
        "test_score = model.evaluate(x_test, y_test, verbose=2)\n",
        "print('Train loss:', train_score[0])\n",
        "print('Train accuracy:', train_score[1])\n",
        "print('Test loss:', test_score[0])\n",
        "print('Test accuracy:', test_score[1])"
      ],
      "metadata": {
        "id": "yihZIPZ_6sql"
      },
      "execution_count": null,
      "outputs": []
    },
    {
      "cell_type": "markdown",
      "source": [
        "[7.2]  Plot the learning curve of your model"
      ],
      "metadata": {
        "id": "iBTo_xEI7K_z"
      }
    },
    {
      "cell_type": "code",
      "source": [
        "\n",
        "# Plot the training loss and accuracy\n",
        "plt.plot(np.arange(0, EPOCHS), history.history[\"loss\"], label=\"train_loss\")\n",
        "plt.plot(np.arange(0, EPOCHS), history.history[\"val_loss\"], label=\"val_loss\")\n",
        "plt.plot(np.arange(0, EPOCHS), history.history[\"accuracy\"], label=\"train_acc\")\n",
        "plt.plot(np.arange(0, EPOCHS), history.history['val_accuracy'], label='val_acc')\n",
        "plt.title(\"Training Loss and Accuracy\")\n",
        "plt.ylabel('Loss / Accuracy')\n",
        "plt.legend(loc='upper right')\n",
        "plt.xlabel('Epoch')\n",
        "plt.show()\n"
      ],
      "metadata": {
        "id": "xgNpYkmofgNC"
      },
      "execution_count": null,
      "outputs": []
    },
    {
      "cell_type": "markdown",
      "source": [
        "[7.3]  Display the confusion matrix on the testing set predictions"
      ],
      "metadata": {
        "id": "qKPu98GR7a17"
      }
    },
    {
      "cell_type": "code",
      "source": [
        "print(\"[INFO] evaluating network...\")\n",
        "# Evaluate the network\n",
        "predictions = model.predict(x_test, batch_size=BATCH_SIZE)\n",
        "predictions_argmax = predictions.argmax(axis=1)\n",
        "y_true_argmax = y_test.argmax(axis=1)\n",
        "print(classification_report(y_true_argmax, predictions_argmax))\n"
      ],
      "metadata": {
        "id": "AFGwBYUVNz6O"
      },
      "execution_count": null,
      "outputs": []
    },
    {
      "cell_type": "code",
      "source": [
        "# Get correctly and incorrectly predicted classes\n",
        "correct = np.nonzero(predictions_argmax == y_true_argmax)[0]\n",
        "incorrect = np.nonzero(predictions_argmax != y_true_argmax)[0]\n",
        "\n",
        "print(\"Correct predicted classes:\", correct.shape[0])\n",
        "print(\"Incorrect predicted classes:\", incorrect.shape[0])"
      ],
      "metadata": {
        "id": "-xy4iR2UPAfV"
      },
      "execution_count": null,
      "outputs": []
    },
    {
      "cell_type": "code",
      "source": [
        "def plot_images(data_index, cmap=\"Blues\"):\n",
        "    \"\"\"\n",
        "    Plot images with true and predicted labels.\n",
        "\n",
        "    Parameters:\n",
        "        data_index (numpy.ndarray): Array of data indices.\n",
        "        cmap (str): Colormap for the images.\n",
        "    \"\"\"\n",
        "    # Plot the sample images now\n",
        "    f, ax = plt.subplots(5, 5, figsize=(12, 12))\n",
        "\n",
        "    for i, indx in enumerate(data_index[:25]):\n",
        "        ax[i // 5, i % 5].imshow(x_test[indx].reshape(IMG_HEIGHT, IMG_WIDTH), cmap=cmap)\n",
        "        ax[i // 5, i % 5].axis('off')\n",
        "        ax[i // 5, i % 5].set_title(\"True:{}  Pred:{}\".format(y_true_argmax[indx], predictions_argmax[indx]))\n",
        "    plt.show()\n"
      ],
      "metadata": {
        "id": "gnJ6GM_FQLYm"
      },
      "execution_count": null,
      "outputs": []
    },
    {
      "cell_type": "code",
      "source": [
        "plot_images(correct, \"Greens\")"
      ],
      "metadata": {
        "id": "I8PJnpF-vvzt"
      },
      "execution_count": null,
      "outputs": []
    },
    {
      "cell_type": "code",
      "source": [
        "plot_images(incorrect, \"Reds\")"
      ],
      "metadata": {
        "id": "SQTIe83gvxWb"
      },
      "execution_count": null,
      "outputs": []
    },
    {
      "cell_type": "code",
      "source": [
        "# Create the confusion matrix\n",
        "confusion_mat = tf.math.confusion_matrix(y_true_argmax, predictions_argmax)\n",
        "\n",
        "# Plot the confusion matrix heatmap\n",
        "plt.figure(figsize=(15, 7))\n",
        "sns.heatmap(confusion_mat, annot=True, fmt='d', cmap='Blues')\n",
        "plt.ylabel('True Labels')\n",
        "plt.xlabel('Predicted Labels')\n",
        "plt.show()"
      ],
      "metadata": {
        "id": "G5BZ0VZWQOnO"
      },
      "execution_count": null,
      "outputs": []
    }
  ]
}